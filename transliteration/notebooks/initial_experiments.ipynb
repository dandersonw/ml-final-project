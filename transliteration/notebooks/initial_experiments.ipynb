{
 "cells": [
  {
   "cell_type": "code",
   "execution_count": 1,
   "metadata": {
    "autoscroll": false,
    "collapsed": false,
    "ein.hycell": false,
    "ein.tags": "worksheet-0",
    "slideshow": {
     "slide_type": "-"
    }
   },
   "outputs": [],
   "source": [
    "import tensorflow as tf\n",
    "import numpy as np\n",
    "import pandas as pd\n",
    "tf.enable_eager_execution()\n",
    "import importlib\n",
    "import os\n",
    "\n",
    "from matplotlib import pyplot as plt\n",
    "%matplotlib notebook\n",
    "\n",
    "from transliteration import data, train, model_one, script, decode, evaluate"
   ]
  },
  {
   "cell_type": "code",
   "execution_count": 2,
   "metadata": {
    "autoscroll": false,
    "collapsed": false,
    "ein.hycell": false,
    "ein.tags": "worksheet-0",
    "slideshow": {
     "slide_type": "-"
    }
   },
   "outputs": [],
   "source": [
    "importlib.reload(data)\n",
    "batch_size = 50\n",
    "muse_train_dataset = data.make_dataset('../data/tfrecord/muse_train.tfrecord',\n",
    "                                       from_script='en',\n",
    "                                       to_script='ja',\n",
    "                                       batch_size=batch_size)\n",
    "muse_valid_dataset = data.make_dataset('../data/tfrecord/muse_valid.tfrecord',\n",
    "                                       from_script='en',\n",
    "                                       to_script='ja',\n",
    "                                       batch_size=batch_size)\n",
    "muse_test_dataset = data.make_dataset('../data/tfrecord/muse_test.tfrecord',\n",
    "                                      from_script='en',\n",
    "                                      to_script='ja',\n",
    "                                      batch_size=batch_size)\n",
    "cmu_train_dataset = data.make_dataset('../data/tfrecord/cmu_train.tfrecord',\n",
    "                                  from_script='en',\n",
    "                                  to_script='cmu',\n",
    "                                  batch_size=batch_size)\n",
    "cmu_valid_dataset = data.make_dataset('../data/tfrecord/cmu_valid.tfrecord',\n",
    "                                  from_script='en',\n",
    "                                  to_script='cmu',\n",
    "                                  batch_size=batch_size)\n",
    "cmu_test_dataset = data.make_dataset('../data/tfrecord/cmu_test.tfrecord',\n",
    "                                 from_script='en',\n",
    "                                 to_script='cmu',\n",
    "                                 batch_size=batch_size)\n",
    "eob_train_dataset = data.make_dataset('../data/tfrecord/eob_train.tfrecord',\n",
    "                                       from_script='en',\n",
    "                                       to_script='ja',\n",
    "                                       batch_size=batch_size)\n",
    "eob_valid_dataset = data.make_dataset('../data/tfrecord/eob_valid.tfrecord',\n",
    "                                       from_script='en',\n",
    "                                       to_script='ja',\n",
    "                                       batch_size=batch_size)\n",
    "eob_test_dataset = data.make_dataset('../data/tfrecord/eob_test.tfrecord',\n",
    "                                      from_script='en',\n",
    "                                      to_script='ja',\n",
    "                                      batch_size=batch_size)"
   ]
  },
  {
   "cell_type": "code",
   "execution_count": 3,
   "metadata": {
    "autoscroll": false,
    "collapsed": false,
    "ein.hycell": false,
    "ein.tags": "worksheet-0",
    "slideshow": {
     "slide_type": "-"
    }
   },
   "outputs": [
    {
     "name": "stdout",
     "output_type": "stream",
     "text": [
      "WARNING:tensorflow:From /home/derick/anaconda3/envs/tf-1.13/lib/python3.7/site-packages/tensorflow/python/training/checkpointable/util.py:1858: colocate_with (from tensorflow.python.framework.ops) is deprecated and will be removed in a future version.\n",
      "Instructions for updating:\n",
      "Colocations handled automatically by placer.\n"
     ]
    },
    {
     "data": {
      "text/plain": [
       "'./training_checkpoints/ckpt-1'"
      ]
     },
     "execution_count": 3,
     "metadata": {},
     "output_type": "execute_result"
    }
   ],
   "source": [
    "importlib.reload(model_one)\n",
    "optimizer = tf.train.AdamOptimizer()\n",
    "\n",
    "\n",
    "def loss_function(real, pred):\n",
    "    mask = 1 - np.equal(real, 0)\n",
    "    loss_ = tf.nn.sparse_softmax_cross_entropy_with_logits(labels=real, logits=pred)\n",
    "    return tf.reduce_mean(loss_ * mask)\n",
    "\n",
    "cmu_encoder_config = model_one.Config(lstm_size=240,\n",
    "                                      embedding_size=30,\n",
    "                                      attention_size=None,\n",
    "                                      vocab_size=script.SCRIPTS['en'].vocab_size)\n",
    "ja_encoder_config = model_one.Config(lstm_size=60,\n",
    "                                      embedding_size=20,\n",
    "                                      attention_size=None,\n",
    "                                      vocab_size=script.SCRIPTS['en'].vocab_size)\n",
    "ja_decoder_config = model_one.Config(lstm_size=80,\n",
    "                                     embedding_size=30,\n",
    "                                     attention_size=60,\n",
    "                                     attention='monotonic_bahdanau',\n",
    "                                     vocab_size=script.SCRIPTS['ja'].vocab_size)\n",
    "cmu_decoder_config = model_one.Config(lstm_size=240,\n",
    "                                  embedding_size=30,\n",
    "                                  attention_size=120,\n",
    "                                  attention='monotonic_bahdanau',\n",
    "                                  vocab_size=script.SCRIPTS['cmu'].vocab_size)\n",
    "cmu_encoder = model_one.Encoder(cmu_encoder_config)\n",
    "ja_encoder = model_one.CombinedEncoder(ja_encoder_config, cmu_encoder)\n",
    "ja_decoder = model_one.Decoder(ja_decoder_config)\n",
    "cmu_decoder = model_one.Decoder(cmu_decoder_config)\n",
    "\n",
    "checkpoint_dir = './training_checkpoints'\n",
    "checkpoint_prefix = os.path.join(checkpoint_dir, \"ckpt\")\n",
    "checkpoint = tf.train.Checkpoint(optimizer=optimizer,\n",
    "                                 cmu_encoder=cmu_encoder,\n",
    "                                 ja_encoder=ja_encoder,\n",
    "                                 ja_decoder=ja_decoder,\n",
    "                                 cmu_decoder=cmu_decoder)"
   ]
  },
  {
   "cell_type": "code",
   "execution_count": 4,
   "metadata": {
    "autoscroll": false,
    "collapsed": false,
    "ein.hycell": false,
    "ein.tags": "worksheet-0",
    "slideshow": {
     "slide_type": "-"
    }
   },
   "outputs": [
    {
     "name": "stdout",
     "output_type": "stream",
     "text": [
      "Epoch 0: Train Loss 7.008, Valid Loss 2.963\n",
      "([['D EH1 R IH0 K', 'D EH1 R IH0 K AH0 S']], array([[-2.16058062, -3.33863963]]))\n"
     ]
    },
    {
     "name": "stdout",
     "output_type": "stream",
     "text": [
      "Epoch 1: Train Loss 2.505, Valid Loss 2.317\n",
      "([['D EH1 R IH0 K AH0 N', 'D EH1 R IH0 K AH0 L']], array([[-3.30538617, -3.93020533]]))\n"
     ]
    },
    {
     "name": "stdout",
     "output_type": "stream",
     "text": [
      "Epoch 2: Train Loss 2.064, Valid Loss 2.130\n"
     ]
    },
    {
     "name": "stdout",
     "output_type": "stream",
     "text": [
      "([['D EH1 R IH0 K', 'D ER0 IH1 K']], array([[-0.88500174, -2.94132761]]))\n"
     ]
    },
    {
     "name": "stdout",
     "output_type": "stream",
     "text": [
      "Epoch 3: Train Loss 1.813, Valid Loss 1.989\n"
     ]
    },
    {
     "name": "stdout",
     "output_type": "stream",
     "text": [
      "([['D EH1 R IH0 K AH0 L G AA2 K AH0 L G AH0 N', 'D EH1 R IH0 K AH0 L G AA2 K AH0 L G IH2 N IH0 S']], array([[-13.33940972, -15.05822522]]))\n"
     ]
    },
    {
     "name": "stdout",
     "output_type": "stream",
     "text": [
      "Epoch 4: Train Loss 1.625, Valid Loss 1.934\n"
     ]
    },
    {
     "name": "stdout",
     "output_type": "stream",
     "text": [
      "([['D ER0 IH1 K AH0 L IH0 K IH0 S', 'D EH1 R IH0 K AH0 L IH0 K IH0 N']], array([[-7.47479069, -9.2121741 ]]))\n"
     ]
    }
   ],
   "source": [
    "importlib.reload(train)\n",
    "cmu_best_val_loss = None\n",
    "cmu_checkpoint = None\n",
    "for e in range(5):\n",
    "    loss = train.run_one_epoch(cmu_train_dataset,\n",
    "                               True,\n",
    "                               from_script='en',\n",
    "                               to_script='cmu',\n",
    "                               encoder=cmu_encoder,\n",
    "                               decoder=cmu_decoder,\n",
    "                               optimizer=optimizer,\n",
    "                               loss_function=loss_function)\n",
    "    valid_loss = train.run_one_epoch(cmu_valid_dataset,\n",
    "                                     False,\n",
    "                                     from_script='en',\n",
    "                                     to_script='cmu',\n",
    "                                     encoder=cmu_encoder,\n",
    "                                     decoder=cmu_decoder,\n",
    "                                     loss_function=loss_function)\n",
    "    if cmu_best_val_loss is None or valid_loss < cmu_best_val_loss:\n",
    "        cmu_best_val_loss = valid_loss\n",
    "        cmu_checkpoint = checkpoint.save(file_prefix=checkpoint_prefix)\n",
    "    print(\"Epoch {}: Train Loss {:.3f}, Valid Loss {:.3f}\".format(e, loss, valid_loss))\n",
    "    print(decode.transliterate(input_strs=['derick'],\n",
    "                               from_script='en',\n",
    "                               to_script='cmu',\n",
    "                               encoder=cmu_encoder,\n",
    "                               decoder=cmu_decoder,\n",
    "                               k_best=2,\n",
    "                               decoding_method=decode.beam_search_decode))"
   ]
  },
  {
   "cell_type": "code",
   "execution_count": 5,
   "metadata": {
    "autoscroll": false,
    "collapsed": false,
    "ein.hycell": false,
    "ein.tags": "worksheet-0",
    "slideshow": {
     "slide_type": "-"
    }
   },
   "outputs": [],
   "source": [
    "checkpoint.restore(cmu_checkpoint).assert_consumed()\n",
    "for layer in cmu_encoder.layers:\n",
    "    layer.trainable = False"
   ]
  },
  {
   "cell_type": "code",
   "execution_count": 6,
   "metadata": {
    "autoscroll": false,
    "collapsed": false,
    "ein.hycell": false,
    "ein.tags": "worksheet-0",
    "slideshow": {
     "slide_type": "-"
    }
   },
   "outputs": [
    {
     "name": "stdout",
     "output_type": "stream",
     "text": [
      "Epoch 0: Train Loss 13.487, Valid Loss 8.456\n",
      "([['ディリック', 'ディリックライク']], array([[ -5.79110572, -11.95419487]]))\n"
     ]
    },
    {
     "name": "stdout",
     "output_type": "stream",
     "text": [
      "Epoch 1: Train Loss 7.175, Valid Loss 6.395\n"
     ]
    },
    {
     "name": "stdout",
     "output_type": "stream",
     "text": [
      "([['ディリック', 'ディリックス']], array([[-4.32777213, -6.8663864 ]]))\n"
     ]
    },
    {
     "name": "stdout",
     "output_type": "stream",
     "text": [
      "Epoch 2: Train Loss 5.552, Valid Loss 5.638\n"
     ]
    },
    {
     "name": "stdout",
     "output_type": "stream",
     "text": [
      "([['デリック', 'ディリック']], array([[-3.24471917, -3.9433329 ]]))\n"
     ]
    },
    {
     "name": "stdout",
     "output_type": "stream",
     "text": [
      "Epoch 3: Train Loss 4.644, Valid Loss 5.185\n"
     ]
    },
    {
     "name": "stdout",
     "output_type": "stream",
     "text": [
      "([['デリック', 'デリク']], array([[-2.4960733 , -3.81435851]]))\n"
     ]
    },
    {
     "name": "stdout",
     "output_type": "stream",
     "text": [
      "Epoch 4: Train Loss 4.033, Valid Loss 5.191\n"
     ]
    },
    {
     "name": "stdout",
     "output_type": "stream",
     "text": [
      "([['デリック', 'デリックス']], array([[-2.69619602, -5.15031964]]))\n"
     ]
    },
    {
     "name": "stdout",
     "output_type": "stream",
     "text": [
      "Epoch 5: Train Loss 3.547, Valid Loss 5.019\n"
     ]
    },
    {
     "name": "stdout",
     "output_type": "stream",
     "text": [
      "([['デリック', 'デリックス']], array([[-2.37590109, -4.2818731 ]]))\n"
     ]
    },
    {
     "name": "stdout",
     "output_type": "stream",
     "text": [
      "Epoch 6: Train Loss 3.174, Valid Loss 4.901\n"
     ]
    },
    {
     "name": "stdout",
     "output_type": "stream",
     "text": [
      "([['デリック', 'デリックス']], array([[-1.65408905, -3.1924593 ]]))\n"
     ]
    },
    {
     "name": "stdout",
     "output_type": "stream",
     "text": [
      "Epoch 7: Train Loss 2.794, Valid Loss 5.087\n"
     ]
    },
    {
     "name": "stdout",
     "output_type": "stream",
     "text": [
      "([['デリック', 'デリックス']], array([[-1.84130458, -3.40192155]]))\n"
     ]
    },
    {
     "name": "stdout",
     "output_type": "stream",
     "text": [
      "Epoch 8: Train Loss 2.506, Valid Loss 4.993\n",
      "([['デリック', 'デリックス']], array([[-2.70120501, -4.2814548 ]]))\n"
     ]
    },
    {
     "name": "stdout",
     "output_type": "stream",
     "text": [
      "Epoch 9: Train Loss 2.240, Valid Loss 5.136\n",
      "([['デリック', 'デリックス']], array([[-1.99059459, -3.2475061 ]]))\n"
     ]
    },
    {
     "name": "stdout",
     "output_type": "stream",
     "text": [
      "Epoch 10: Train Loss 2.011, Valid Loss 5.308\n",
      "([['デリック', 'デリックス']], array([[-1.83814945, -3.23874214]]))\n"
     ]
    },
    {
     "name": "stdout",
     "output_type": "stream",
     "text": [
      "Epoch 11: Train Loss 1.813, Valid Loss 5.322\n",
      "([['デリック', 'ダリック']], array([[-3.29460394, -3.40644189]]))\n"
     ]
    },
    {
     "name": "stdout",
     "output_type": "stream",
     "text": [
      "Epoch 12: Train Loss 1.608, Valid Loss 5.470\n",
      "([['デリック', 'デリックス']], array([[-2.11808781, -2.67102853]]))\n"
     ]
    },
    {
     "name": "stdout",
     "output_type": "stream",
     "text": [
      "Epoch 13: Train Loss 1.450, Valid Loss 5.479\n",
      "([['デリック', 'ダリック']], array([[-1.92800108, -2.61112062]]))\n"
     ]
    },
    {
     "name": "stdout",
     "output_type": "stream",
     "text": [
      "Epoch 14: Train Loss 1.303, Valid Loss 5.562\n",
      "([['ダリック', 'ディーク']], array([[-2.76742465, -3.1780104 ]]))\n"
     ]
    }
   ],
   "source": [
    "importlib.reload(train)\n",
    "best_val_loss = None\n",
    "ja_checkpoint = None\n",
    "for e in range(15):\n",
    "    loss = train.run_one_epoch(eob_train_dataset,\n",
    "                               True,\n",
    "                               from_script='en',\n",
    "                               to_script='ja',\n",
    "                               encoder=ja_encoder,\n",
    "                               decoder=ja_decoder,\n",
    "                               optimizer=optimizer,\n",
    "                               loss_function=loss_function)\n",
    "    valid_loss = train.run_one_epoch(eob_valid_dataset,\n",
    "                                     False,\n",
    "                                     from_script='en',\n",
    "                                     to_script='ja',\n",
    "                                     encoder=ja_encoder,\n",
    "                                     decoder=ja_decoder,\n",
    "                                     loss_function=loss_function)\n",
    "    if best_val_loss is None or valid_loss < best_val_loss:\n",
    "        best_val_loss = valid_loss\n",
    "        ja_checkpoint = checkpoint.save(file_prefix=checkpoint_prefix)\n",
    "    print(\"Epoch {}: Train Loss {:.3f}, Valid Loss {:.3f}\".format(e, loss, valid_loss))\n",
    "    print(decode.transliterate(input_strs=['derick'],\n",
    "                               from_script='en',\n",
    "                               to_script='ja',\n",
    "                               encoder=ja_encoder,\n",
    "                               decoder=ja_decoder,\n",
    "                               k_best=2,\n",
    "                               decoding_method=decode.beam_search_decode))"
   ]
  },
  {
   "cell_type": "code",
   "execution_count": 7,
   "metadata": {
    "autoscroll": false,
    "collapsed": false,
    "ein.hycell": false,
    "ein.tags": "worksheet-0",
    "slideshow": {
     "slide_type": "-"
    }
   },
   "outputs": [
    {
     "data": {
      "text/plain": [
       "<tf.Tensor: id=385654748, shape=(), dtype=float32, numpy=4.947897>"
      ]
     },
     "execution_count": 7,
     "metadata": {},
     "output_type": "execute_result"
    }
   ],
   "source": [
    "checkpoint.restore(ja_checkpoint).assert_consumed()\n",
    "train.run_one_epoch(eob_valid_dataset,\n",
    "                    False,\n",
    "                    from_script='en',\n",
    "                    to_script='ja',\n",
    "                    encoder=ja_encoder,\n",
    "                    decoder=ja_decoder,\n",
    "                    loss_function=loss_function)"
   ]
  },
  {
   "cell_type": "code",
   "execution_count": 8,
   "metadata": {
    "autoscroll": false,
    "collapsed": false,
    "ein.hycell": false,
    "ein.tags": "worksheet-0",
    "slideshow": {
     "slide_type": "-"
    }
   },
   "outputs": [
    {
     "data": {
      "text/plain": [
       "([['ビリアム', 'ウィリアム']], array([[-3.32260399, -4.42660514]]))"
      ]
     },
     "execution_count": 8,
     "metadata": {},
     "output_type": "execute_result"
    }
   ],
   "source": [
    "decode.transliterate(input_strs=['william'],\n",
    "                     from_script='en',\n",
    "                     to_script='ja',\n",
    "                     encoder=ja_encoder,\n",
    "                     decoder=ja_decoder,\n",
    "                     k_best=2,\n",
    "                     num_beams=40,\n",
    "                     decoding_method=decode.beam_search_decode)"
   ]
  },
  {
   "cell_type": "code",
   "execution_count": 9,
   "metadata": {
    "autoscroll": false,
    "collapsed": false,
    "ein.hycell": false,
    "ein.tags": "worksheet-0",
    "slideshow": {
     "slide_type": "-"
    }
   },
   "outputs": [],
   "source": [
    "valid_df = pd.read_csv('../data/split/eob_pairs_valid.csv',\n",
    "                       keep_default_na=False)"
   ]
  },
  {
   "cell_type": "code",
   "execution_count": 10,
   "metadata": {
    "autoscroll": false,
    "collapsed": false,
    "ein.hycell": false,
    "ein.tags": "worksheet-0",
    "slideshow": {
     "slide_type": "-"
    }
   },
   "outputs": [],
   "source": [
    "importlib.reload(decode)\n",
    "tr = decode.transliterate(input_strs=valid_df['en'].values,\n",
    "                     from_script='en',\n",
    "                     to_script='ja',\n",
    "                     encoder=ja_encoder,\n",
    "                     decoder=ja_decoder,\n",
    "                     k_best=20,\n",
    "                     num_beams=40,\n",
    "                     decoding_method=decode.beam_search_decode)"
   ]
  },
  {
   "cell_type": "code",
   "execution_count": 11,
   "metadata": {
    "autoscroll": false,
    "collapsed": false,
    "ein.hycell": false,
    "ein.tags": "worksheet-0",
    "slideshow": {
     "slide_type": "-"
    }
   },
   "outputs": [
    {
     "data": {
      "text/plain": [
       "0.4019715224534502"
      ]
     },
     "execution_count": 11,
     "metadata": {},
     "output_type": "execute_result"
    }
   ],
   "source": [
    "evaluate.top_k_accuracy(valid_df['ja'].values, tr, k=1)"
   ]
  },
  {
   "cell_type": "code",
   "execution_count": 12,
   "metadata": {
    "autoscroll": false,
    "collapsed": false,
    "ein.hycell": false,
    "ein.tags": "worksheet-0",
    "slideshow": {
     "slide_type": "-"
    }
   },
   "outputs": [],
   "source": [
    "importlib.reload(evaluate)\n",
    "\n",
    "ks = list(range(1, 21))\n",
    "accuracies = [evaluate.top_k_accuracy(valid_df['ja'].values, tr, k=k) for k in ks]"
   ]
  },
  {
   "cell_type": "code",
   "execution_count": 13,
   "metadata": {
    "autoscroll": false,
    "collapsed": false,
    "ein.hycell": false,
    "ein.tags": "worksheet-0",
    "slideshow": {
     "slide_type": "-"
    }
   },
   "outputs": [
    {
     "data": {
      "text/plain": [
       "[<matplotlib.lines.Line2D at 0x7f656c5fec18>]"
      ]
     },
     "execution_count": 13,
     "metadata": {},
     "output_type": "execute_result"
    },
    {
     "data": {
      "image/png": "[encoded data removed]",
      "text/plain": [
       "<Figure size 432x288 with 1 Axes>"
      ]
     },
     "metadata": {},
     "output_type": "display_data"
    }
   ],
   "source": [
    "plt.plot(ks, accuracies)"
   ]
  },
  {
   "cell_type": "code",
   "execution_count": 29,
   "metadata": {
    "autoscroll": false,
    "collapsed": false,
    "ein.hycell": false,
    "ein.tags": "worksheet-0",
    "slideshow": {
     "slide_type": "-"
    }
   },
   "outputs": [
    {
     "data": {
      "text/plain": [
       "0.5288660969831264"
      ]
     },
     "execution_count": 29,
     "metadata": {},
     "output_type": "execute_result"
    }
   ],
   "source": [
    "importlib.reload(evaluate)\n",
    "evaluate.mrr(valid_df['ja'].values,\n",
    "             tr,\n",
    "             k=20)"
   ]
  }
 ],
 "metadata": {
  "kernelspec": {
   "display_name": "Python [conda env:tf-1.13]",
   "name": "conda-env-tf-1.13-py"
  },
  "name": "initial_experiments.ipynb"
 },
 "nbformat": 4,
 "nbformat_minor": 2
}
