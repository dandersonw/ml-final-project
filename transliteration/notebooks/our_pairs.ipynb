{
 "cells": [
  {
   "cell_type": "code",
   "execution_count": 1,
   "metadata": {
    "autoscroll": false,
    "collapsed": false,
    "ein.hycell": false,
    "ein.tags": "worksheet-0",
    "slideshow": {
     "slide_type": "-"
    }
   },
   "outputs": [],
   "source": [
    "import tensorflow as tf\n",
    "import numpy as np\n",
    "import pandas as pd\n",
    "tf.enable_eager_execution()\n",
    "import importlib\n",
    "import os\n",
    "\n",
    "from matplotlib import pyplot as plt\n",
    "%matplotlib notebook\n",
    "\n",
    "from transliteration import data, train, model_one, script, decode, evaluate"
   ]
  },
  {
   "cell_type": "code",
   "execution_count": 2,
   "metadata": {
    "autoscroll": false,
    "collapsed": false,
    "ein.hycell": false,
    "ein.tags": "worksheet-0",
    "slideshow": {
     "slide_type": "-"
    }
   },
   "outputs": [],
   "source": [
    "batch_size = 128\n",
    "our_train_dataset = data.make_dataset('../data/tfrecord/our_2_train.tfrecord',\n",
    "                                      from_script='en',\n",
    "                                      to_script='ja',\n",
    "                                      batch_size=batch_size)\n",
    "our_valid_dataset = data.make_dataset('../data/tfrecord/our_2_valid.tfrecord',\n",
    "                                      from_script='en',\n",
    "                                      to_script='ja',\n",
    "                                      batch_size=batch_size)\n",
    "eob_valid_dataset = data.make_dataset('../data/tfrecord/eob_valid.tfrecord',\n",
    "                                       from_script='en',\n",
    "                                       to_script='ja',\n",
    "                                      batch_size=batch_size)\n",
    "muse_valid_dataset = data.make_dataset('../data/tfrecord/muse_valid.tfrecord',\n",
    "                                       from_script='en',\n",
    "                                       to_script='ja',\n",
    "                                       batch_size=batch_size)"
   ]
  },
  {
   "cell_type": "code",
   "execution_count": 3,
   "metadata": {
    "autoscroll": false,
    "collapsed": false,
    "ein.hycell": false,
    "ein.tags": "worksheet-0",
    "slideshow": {
     "slide_type": "-"
    }
   },
   "outputs": [],
   "source": [
    "optimizer = tf.train.AdamOptimizer()\n",
    "\n",
    "def loss_function(real, pred):\n",
    "    mask = 1 - np.equal(real, 0)\n",
    "    loss_ = tf.nn.sparse_softmax_cross_entropy_with_logits(labels=real, logits=pred)\n",
    "    return tf.reduce_mean(loss_ * mask)\n",
    "\n",
    "ja_encoder_config = model_one.Config(lstm_size=120,\n",
    "                                     embedding_size=30,\n",
    "                                     attention_size=None,\n",
    "                                     vocab_size=script.SCRIPTS['en'].vocab_size)\n",
    "ja_decoder_config = model_one.Config(lstm_size=120,\n",
    "                                     embedding_size=30,\n",
    "                                     attention_size=60,\n",
    "                                     vocab_size=script.SCRIPTS['ja'].vocab_size)\n",
    "ja_encoder = model_one.Encoder(ja_encoder_config)\n",
    "ja_decoder = model_one.Decoder(ja_decoder_config)\n",
    "\n",
    "checkpoint_dir = './training_checkpoints'\n",
    "checkpoint_prefix = os.path.join(checkpoint_dir, \"ckpt\")\n",
    "checkpoint = None\n",
    "\n",
    "def make_checkpoint_obj():\n",
    "    return tf.train.Checkpoint(optimizer=optimizer,\n",
    "                               ja_encoder=ja_encoder,\n",
    "                               ja_decoder=ja_decoder)"
   ]
  },
  {
   "cell_type": "code",
   "execution_count": 4,
   "metadata": {
    "autoscroll": false,
    "collapsed": false,
    "ein.hycell": false,
    "ein.tags": "worksheet-0",
    "slideshow": {
     "slide_type": "-"
    }
   },
   "outputs": [],
   "source": [
    "best_val_loss = None\n",
    "ja_checkpoint = None"
   ]
  },
  {
   "cell_type": "code",
   "execution_count": 5,
   "metadata": {
    "autoscroll": false,
    "collapsed": false,
    "ein.hycell": false,
    "ein.tags": "worksheet-0",
    "slideshow": {
     "slide_type": "-"
    }
   },
   "outputs": [
    {
     "name": "stdout",
     "output_type": "stream",
     "text": [
      "WARNING:tensorflow:From /home/derick/anaconda3/envs/tf-1.13/lib/python3.7/site-packages/tensorflow/python/data/ops/iterator_ops.py:532: colocate_with (from tensorflow.python.framework.ops) is deprecated and will be removed in a future version.\n",
      "Instructions for updating:\n",
      "Colocations handled automatically by placer.\n"
     ]
    },
    {
     "name": "stdout",
     "output_type": "stream",
     "text": [
      "Epoch 0: Train Loss 18.893, Valid Loss 17.194\n",
      "([['', 'ル']], array([[-4.09070444, -8.1306653 ]]))\n"
     ]
    },
    {
     "name": "stdout",
     "output_type": "stream",
     "text": [
      "Epoch 1: Train Loss 15.474, Valid Loss 14.672\n",
      "([['', 'ー']], array([[-3.96696663, -7.25935888]]))\n"
     ]
    },
    {
     "name": "stdout",
     "output_type": "stream",
     "text": [
      "Epoch 2: Train Loss 14.238, Valid Loss 13.996\n",
      "([['ー', 'ン']], array([[-6.95424581, -7.10179305]]))\n"
     ]
    },
    {
     "name": "stdout",
     "output_type": "stream",
     "text": [
      "Epoch 3: Train Loss 13.651, Valid Loss 13.575\n",
      "([['ーー', 'ーン']], array([[-9.0966785 , -9.29305768]]))\n"
     ]
    },
    {
     "name": "stdout",
     "output_type": "stream",
     "text": [
      "Epoch 4: Train Loss 13.300, Valid Loss 13.389\n",
      "([['ーー', 'ーン']], array([[-8.46067882, -8.61680281]]))\n"
     ]
    },
    {
     "name": "stdout",
     "output_type": "stream",
     "text": [
      "Epoch 5: Train Loss 13.164, Valid Loss 13.219\n",
      "([['ーー', 'リー']], array([[-8.97501707, -9.21134734]]))\n"
     ]
    },
    {
     "name": "stdout",
     "output_type": "stream",
     "text": [
      "Epoch 6: Train Loss 13.005, Valid Loss 13.053\n",
      "([['ーー', 'ラー']], array([[-9.38374758, -9.49531746]]))\n"
     ]
    },
    {
     "name": "stdout",
     "output_type": "stream",
     "text": [
      "Epoch 7: Train Loss 12.904, Valid Loss 13.117\n",
      "([['ーー', 'ラーン']], array([[ -9.63600779, -10.23621213]]))\n"
     ]
    },
    {
     "name": "stdout",
     "output_type": "stream",
     "text": [
      "Epoch 8: Train Loss 12.845, Valid Loss 12.919\n",
      "([['ーー', 'ラーー']], array([[ -9.61942315, -10.25515229]]))\n"
     ]
    },
    {
     "name": "stdout",
     "output_type": "stream",
     "text": [
      "Epoch 9: Train Loss 12.758, Valid Loss 12.997\n",
      "([['ラー', 'リーン']], array([[-9.43848062, -9.77764022]]))\n"
     ]
    },
    {
     "name": "stdout",
     "output_type": "stream",
     "text": [
      "Epoch 10: Train Loss 12.644, Valid Loss 13.121\n",
      "([['リーン', 'リーー']], array([[-10.08886331, -10.18286264]]))\n"
     ]
    },
    {
     "name": "stdout",
     "output_type": "stream",
     "text": [
      "Epoch 11: Train Loss 12.535, Valid Loss 12.360\n",
      "([['リー', 'ラー']], array([[-9.50044107, -9.51245451]]))\n"
     ]
    },
    {
     "name": "stdout",
     "output_type": "stream",
     "text": [
      "Epoch 12: Train Loss 12.444, Valid Loss 12.439\n",
      "([['リー', 'リーン']], array([[-9.25696707, -9.55111781]]))\n"
     ]
    },
    {
     "name": "stdout",
     "output_type": "stream",
     "text": [
      "Epoch 13: Train Loss 12.323, Valid Loss 12.569\n",
      "([['リー', 'リール']], array([[-8.90347123, -9.25400236]]))\n"
     ]
    },
    {
     "name": "stdout",
     "output_type": "stream",
     "text": [
      "Epoch 14: Train Loss 12.290, Valid Loss 12.488\n",
      "([['リー', 'リン']], array([[-8.347754  , -8.82998943]]))\n"
     ]
    }
   ],
   "source": [
    "for e in range(15):\n",
    "    loss = train.run_one_epoch(our_train_dataset,\n",
    "                               True,\n",
    "                               from_script='en',\n",
    "                               to_script='ja',\n",
    "                               encoder=ja_encoder,\n",
    "                               decoder=ja_decoder,\n",
    "                               optimizer=optimizer,\n",
    "                               loss_function=loss_function)\n",
    "    valid_loss = train.run_one_epoch(our_valid_dataset,\n",
    "                                     False,\n",
    "                                     from_script='en',\n",
    "                                     to_script='ja',\n",
    "                                     encoder=ja_encoder,\n",
    "                                     decoder=ja_decoder,\n",
    "                                     loss_function=loss_function)\n",
    "    if best_val_loss is None or valid_loss < best_val_loss:\n",
    "        best_val_loss = valid_loss\n",
    "        if checkpoint is None:\n",
    "            checkpoint = make_checkpoint_obj()\n",
    "        ja_checkpoint = checkpoint.save(file_prefix=checkpoint_prefix)\n",
    "    print(\"Epoch {}: Train Loss {:.3f}, Valid Loss {:.3f}\".format(e, loss, valid_loss))\n",
    "    print(decode.transliterate(input_strs=['derick'],\n",
    "                               from_script='en',\n",
    "                               to_script='ja',\n",
    "                               encoder=ja_encoder,\n",
    "                               decoder=ja_decoder,\n",
    "                               k_best=2,\n",
    "                               decoding_method=decode.beam_search_decode))"
   ]
  },
  {
   "cell_type": "code",
   "execution_count": 6,
   "metadata": {
    "autoscroll": false,
    "collapsed": false,
    "ein.hycell": false,
    "ein.tags": "worksheet-0",
    "slideshow": {
     "slide_type": "-"
    }
   },
   "outputs": [
    {
     "name": "stdout",
     "output_type": "stream",
     "text": [
      "Epoch 15: Train Loss 12.236, Valid Loss 12.349\n",
      "([['リー', 'リン']], array([[-7.69474316, -8.27618408]]))\n"
     ]
    },
    {
     "name": "stdout",
     "output_type": "stream",
     "text": [
      "Epoch 16: Train Loss 12.216, Valid Loss 12.339\n",
      "([['リー', 'リン']], array([[-7.87511623, -8.41008997]]))\n"
     ]
    },
    {
     "name": "stdout",
     "output_type": "stream",
     "text": [
      "Epoch 17: Train Loss 12.089, Valid Loss 11.833\n",
      "([['リー', 'リン']], array([[-7.43134153, -8.0247581 ]]))\n"
     ]
    },
    {
     "name": "stdout",
     "output_type": "stream",
     "text": [
      "Epoch 18: Train Loss 12.037, Valid Loss 11.693\n",
      "([['リー', 'リン']], array([[-7.06350589, -7.84574306]]))\n"
     ]
    },
    {
     "name": "stdout",
     "output_type": "stream",
     "text": [
      "Epoch 19: Train Loss 11.987, Valid Loss 11.993\n",
      "([['ロー', 'ロン']], array([[-7.59558558, -8.03289866]]))\n"
     ]
    },
    {
     "name": "stdout",
     "output_type": "stream",
     "text": [
      "Epoch 20: Train Loss 11.935, Valid Loss 11.604\n",
      "([['リー', 'ロー']], array([[-6.95484495, -7.14413989]]))\n"
     ]
    },
    {
     "name": "stdout",
     "output_type": "stream",
     "text": [
      "Epoch 21: Train Loss 11.896, Valid Loss 12.450\n",
      "([['リー', 'リール']], array([[-7.45183396, -7.86078775]]))\n"
     ]
    },
    {
     "name": "stdout",
     "output_type": "stream",
     "text": [
      "Epoch 22: Train Loss 11.857, Valid Loss 12.397\n",
      "([['リー', 'コー']], array([[-6.94243491, -7.55897105]]))\n"
     ]
    },
    {
     "name": "stdout",
     "output_type": "stream",
     "text": [
      "Epoch 23: Train Loss 11.787, Valid Loss 12.353\n",
      "([['コー', 'ラン']], array([[-7.59818316, -7.82518053]]))\n"
     ]
    },
    {
     "name": "stdout",
     "output_type": "stream",
     "text": [
      "Epoch 24: Train Loss 11.714, Valid Loss 12.020\n",
      "([['コー', 'ラン']], array([[-7.22297704, -7.36407614]]))\n"
     ]
    },
    {
     "name": "stdout",
     "output_type": "stream",
     "text": [
      "Epoch 25: Train Loss 11.682, Valid Loss 11.570\n",
      "([['ロー', 'コー']], array([[-7.09749436, -7.50068533]]))\n"
     ]
    },
    {
     "name": "stdout",
     "output_type": "stream",
     "text": [
      "Epoch 26: Train Loss 11.602, Valid Loss 12.327\n",
      "([['ラント', 'コー']], array([[-7.45920898, -7.59539366]]))\n"
     ]
    },
    {
     "name": "stdout",
     "output_type": "stream",
     "text": [
      "Epoch 27: Train Loss 11.548, Valid Loss 12.112\n",
      "([['コー', 'ラン']], array([[-7.15042198, -7.29488742]]))\n"
     ]
    },
    {
     "name": "stdout",
     "output_type": "stream",
     "text": [
      "Epoch 28: Train Loss 11.476, Valid Loss 11.318\n",
      "([['ロー', 'ラント']], array([[-7.07994783, -7.37113078]]))\n"
     ]
    },
    {
     "name": "stdout",
     "output_type": "stream",
     "text": [
      "Epoch 29: Train Loss 11.409, Valid Loss 11.255\n",
      "([['ロー', 'ロール']], array([[-7.0559473, -7.292904 ]]))\n"
     ]
    },
    {
     "name": "stdout",
     "output_type": "stream",
     "text": [
      "Epoch 30: Train Loss 11.353, Valid Loss 12.420\n",
      "([['スラン', 'ラント']], array([[-6.94576689, -7.36596085]]))\n"
     ]
    },
    {
     "name": "stdout",
     "output_type": "stream",
     "text": [
      "Epoch 31: Train Loss 11.289, Valid Loss 11.955\n",
      "([['スラン', 'ロー']], array([[-6.91233492, -7.01830816]]))\n"
     ]
    },
    {
     "name": "stdout",
     "output_type": "stream",
     "text": [
      "Epoch 32: Train Loss 11.195, Valid Loss 11.864\n",
      "([['スラン', 'ランド']], array([[-6.90497187, -7.326225  ]]))\n"
     ]
    },
    {
     "name": "stdout",
     "output_type": "stream",
     "text": [
      "Epoch 33: Train Loss 11.139, Valid Loss 12.182\n",
      "([['スラン', 'コール']], array([[-6.70632673, -6.96020754]]))\n"
     ]
    },
    {
     "name": "stdout",
     "output_type": "stream",
     "text": [
      "Epoch 34: Train Loss 11.055, Valid Loss 11.437\n",
      "([['スラン', 'コール']], array([[-6.73074523, -7.11060132]]))\n"
     ]
    },
    {
     "name": "stdout",
     "output_type": "stream",
     "text": [
      "Epoch 35: Train Loss 11.032, Valid Loss 11.360\n",
      "([['サン', 'スラン']], array([[-6.37348509, -6.62938705]]))\n"
     ]
    },
    {
     "name": "stdout",
     "output_type": "stream",
     "text": [
      "Epoch 36: Train Loss 10.992, Valid Loss 11.132\n",
      "([['ディス', 'ディル']], array([[-6.80133558, -6.95877632]]))\n"
     ]
    },
    {
     "name": "stdout",
     "output_type": "stream",
     "text": [
      "Epoch 37: Train Loss 10.860, Valid Loss 11.922\n",
      "([['サン', 'サンド']], array([[-6.30212533, -6.6556958 ]]))\n"
     ]
    },
    {
     "name": "stdout",
     "output_type": "stream",
     "text": [
      "Epoch 38: Train Loss 10.776, Valid Loss 11.936\n",
      "([['サン', 'サンド']], array([[-6.59302294, -6.63984786]]))\n"
     ]
    },
    {
     "name": "stdout",
     "output_type": "stream",
     "text": [
      "Epoch 39: Train Loss 10.670, Valid Loss 11.887\n",
      "([['サン', 'ディス']], array([[-6.54803514, -6.57300754]]))\n"
     ]
    },
    {
     "name": "stdout",
     "output_type": "stream",
     "text": [
      "Epoch 40: Train Loss 10.591, Valid Loss 11.461\n",
      "([['サンド', 'サント']], array([[-6.56792417, -6.91832024]]))\n"
     ]
    },
    {
     "name": "stdout",
     "output_type": "stream",
     "text": [
      "Epoch 41: Train Loss 10.515, Valid Loss 11.958\n",
      "([['ディス', 'ディア']], array([[-6.22172285, -6.25650353]]))\n"
     ]
    },
    {
     "name": "stdout",
     "output_type": "stream",
     "text": [
      "Epoch 42: Train Loss 10.428, Valid Loss 12.225\n",
      "([['ディス', 'ディア']], array([[-6.26754711, -6.39900935]]))\n"
     ]
    },
    {
     "name": "stdout",
     "output_type": "stream",
     "text": [
      "Epoch 43: Train Loss 10.369, Valid Loss 10.922\n",
      "([['ディス', 'ディア']], array([[-6.5732631, -6.6288981]]))\n"
     ]
    },
    {
     "name": "stdout",
     "output_type": "stream",
     "text": [
      "Epoch 44: Train Loss 10.277, Valid Loss 11.579\n",
      "([['ディル', 'ディア']], array([[-6.11214685, -6.19505339]]))\n"
     ]
    },
    {
     "name": "stdout",
     "output_type": "stream",
     "text": [
      "Epoch 45: Train Loss 10.225, Valid Loss 11.822\n",
      "([['デック', 'ディア']], array([[-5.81743953, -6.35966944]]))\n"
     ]
    },
    {
     "name": "stdout",
     "output_type": "stream",
     "text": [
      "Epoch 46: Train Loss 10.101, Valid Loss 11.460\n",
      "([['デック', 'ディル']], array([[-5.71197397, -6.09957897]]))\n"
     ]
    },
    {
     "name": "stdout",
     "output_type": "stream",
     "text": [
      "Epoch 47: Train Loss 10.022, Valid Loss 11.722\n",
      "([['デック', 'ドック']], array([[-5.66418384, -6.09656483]]))\n"
     ]
    },
    {
     "name": "stdout",
     "output_type": "stream",
     "text": [
      "Epoch 48: Train Loss 9.916, Valid Loss 11.694\n",
      "([['デック', 'ディル']], array([[-5.48117416, -5.68262013]]))\n"
     ]
    },
    {
     "name": "stdout",
     "output_type": "stream",
     "text": [
      "Epoch 49: Train Loss 9.839, Valid Loss 11.546\n",
      "([['デック', 'ディア']], array([[-5.24662854, -5.82407024]]))\n"
     ]
    },
    {
     "name": "stdout",
     "output_type": "stream",
     "text": [
      "Epoch 50: Train Loss 9.735, Valid Loss 11.614\n",
      "([['ドック', 'ディル']], array([[-5.76182419, -5.82110551]]))\n"
     ]
    },
    {
     "name": "stdout",
     "output_type": "stream",
     "text": [
      "Epoch 51: Train Loss 9.617, Valid Loss 11.379\n",
      "([['デック', 'ディル']], array([[-5.2168895 , -5.89932529]]))\n"
     ]
    },
    {
     "name": "stdout",
     "output_type": "stream",
     "text": [
      "Epoch 52: Train Loss 9.531, Valid Loss 11.698\n",
      "([['デック', 'ディル']], array([[-5.38141933, -5.80943595]]))\n"
     ]
    },
    {
     "name": "stdout",
     "output_type": "stream",
     "text": [
      "Epoch 53: Train Loss 9.409, Valid Loss 11.089\n",
      "([['デック', 'ディル']], array([[-5.01805422, -5.53385383]]))\n"
     ]
    },
    {
     "name": "stdout",
     "output_type": "stream",
     "text": [
      "Epoch 54: Train Loss 9.327, Valid Loss 11.112\n",
      "([['デック', 'ディル']], array([[-4.8826919 , -5.41494825]]))\n"
     ]
    },
    {
     "name": "stdout",
     "output_type": "stream",
     "text": [
      "Epoch 55: Train Loss 9.223, Valid Loss 11.190\n",
      "([['デック', 'ダール']], array([[-4.91599151, -5.53230841]]))\n"
     ]
    },
    {
     "name": "stdout",
     "output_type": "stream",
     "text": [
      "Epoch 56: Train Loss 9.087, Valid Loss 11.695\n",
      "([['デック', 'ディル']], array([[-4.67645852, -5.13162861]]))\n"
     ]
    },
    {
     "name": "stdout",
     "output_type": "stream",
     "text": [
      "Epoch 57: Train Loss 8.947, Valid Loss 10.988\n",
      "([['デック', 'ディル']], array([[-4.74903919, -5.56818378]]))\n"
     ]
    },
    {
     "name": "stdout",
     "output_type": "stream",
     "text": [
      "Epoch 58: Train Loss 8.814, Valid Loss 12.980\n",
      "([['デック', 'ディル']], array([[-4.64177781, -5.32941012]]))\n"
     ]
    },
    {
     "name": "stdout",
     "output_type": "stream",
     "text": [
      "Epoch 59: Train Loss 8.686, Valid Loss 12.048\n",
      "([['デック', 'ダール']], array([[-4.53887695, -5.42842088]]))\n"
     ]
    },
    {
     "name": "stdout",
     "output_type": "stream",
     "text": [
      "Epoch 60: Train Loss 8.541, Valid Loss 12.003\n",
      "([['デック', 'ディル']], array([[-4.35450761, -5.16484491]]))\n"
     ]
    },
    {
     "name": "stdout",
     "output_type": "stream",
     "text": [
      "Epoch 61: Train Loss 8.393, Valid Loss 11.623\n",
      "([['デック', 'ダール']], array([[-4.23731735, -5.31813067]]))\n"
     ]
    },
    {
     "name": "stdout",
     "output_type": "stream",
     "text": [
      "Epoch 62: Train Loss 8.231, Valid Loss 12.106\n",
      "([['デック', 'ダール']], array([[-4.24920981, -5.42189418]]))\n"
     ]
    },
    {
     "name": "stdout",
     "output_type": "stream",
     "text": [
      "Epoch 63: Train Loss 8.065, Valid Loss 12.194\n",
      "([['デック', 'テック']], array([[-4.04712906, -4.85415128]]))\n"
     ]
    },
    {
     "name": "stdout",
     "output_type": "stream",
     "text": [
      "Epoch 64: Train Loss 7.899, Valid Loss 12.226\n",
      "([['デック', 'ダール']], array([[-3.92812695, -5.35622302]]))\n"
     ]
    },
    {
     "name": "stdout",
     "output_type": "stream",
     "text": [
      "Epoch 65: Train Loss 7.736, Valid Loss 11.757\n",
      "([['デック', 'デックス']], array([[-3.95589676, -5.59148896]]))\n"
     ]
    },
    {
     "name": "stdout",
     "output_type": "stream",
     "text": [
      "Epoch 66: Train Loss 7.611, Valid Loss 11.413\n",
      "([['デック', 'ダーク']], array([[-3.73388763, -4.75318233]]))\n"
     ]
    },
    {
     "name": "stdout",
     "output_type": "stream",
     "text": [
      "Epoch 67: Train Loss 7.399, Valid Loss 11.808\n",
      "([['デック', 'ダーク']], array([[-3.72477344, -5.30872452]]))\n"
     ]
    },
    {
     "name": "stdout",
     "output_type": "stream",
     "text": [
      "Epoch 68: Train Loss 7.211, Valid Loss 13.555\n",
      "([['デック', 'ダーク']], array([[-3.77137035, -4.78121322]]))\n"
     ]
    },
    {
     "name": "stdout",
     "output_type": "stream",
     "text": [
      "Epoch 69: Train Loss 7.043, Valid Loss 11.803\n",
      "([['デック', 'ダーク']], array([[-3.32412944, -4.3202281 ]]))\n"
     ]
    },
    {
     "name": "stdout",
     "output_type": "stream",
     "text": [
      "Epoch 70: Train Loss 6.875, Valid Loss 11.032\n",
      "([['デック', 'デーク']], array([[-3.46466473, -4.98483496]]))\n"
     ]
    },
    {
     "name": "stdout",
     "output_type": "stream",
     "text": [
      "Epoch 71: Train Loss 6.695, Valid Loss 12.002\n",
      "([['デック', 'ダール']], array([[-3.81044066, -4.40340318]]))\n"
     ]
    },
    {
     "name": "stdout",
     "output_type": "stream",
     "text": [
      "Epoch 72: Train Loss 6.482, Valid Loss 12.620\n",
      "([['デック', 'デーク']], array([[-3.5689491 , -5.17268448]]))\n"
     ]
    },
    {
     "name": "stdout",
     "output_type": "stream",
     "text": [
      "Epoch 73: Train Loss 6.280, Valid Loss 12.274\n",
      "([['デック', 'ダール']], array([[-3.29405502, -5.06248887]]))\n"
     ]
    },
    {
     "name": "stdout",
     "output_type": "stream",
     "text": [
      "Epoch 74: Train Loss 6.095, Valid Loss 13.538\n",
      "([['デック', 'ダーク']], array([[-3.53195053, -5.05824715]]))\n"
     ]
    },
    {
     "name": "stdout",
     "output_type": "stream",
     "text": [
      "Epoch 75: Train Loss 5.868, Valid Loss 12.090\n",
      "([['デック', 'ダーク']], array([[-3.29450636, -4.17080583]]))\n"
     ]
    },
    {
     "name": "stdout",
     "output_type": "stream",
     "text": [
      "Epoch 76: Train Loss 5.746, Valid Loss 13.225\n",
      "([['デック', 'シーク']], array([[-3.54097803, -4.31663749]]))\n"
     ]
    },
    {
     "name": "stdout",
     "output_type": "stream",
     "text": [
      "Epoch 77: Train Loss 5.573, Valid Loss 13.365\n",
      "([['デック', 'シーク']], array([[-3.63117349, -4.10899925]]))\n"
     ]
    },
    {
     "name": "stdout",
     "output_type": "stream",
     "text": [
      "Epoch 78: Train Loss 5.364, Valid Loss 13.209\n",
      "([['デック', 'ダーク']], array([[-3.02241894, -4.75569341]]))\n"
     ]
    },
    {
     "name": "stdout",
     "output_type": "stream",
     "text": [
      "Epoch 79: Train Loss 5.145, Valid Loss 13.291\n",
      "([['デック', 'タール']], array([[-3.48343081, -3.88947146]]))\n"
     ]
    },
    {
     "name": "stdout",
     "output_type": "stream",
     "text": [
      "Epoch 80: Train Loss 4.934, Valid Loss 12.724\n",
      "([['デック', 'テック']], array([[-3.3690614 , -4.24862789]]))\n"
     ]
    },
    {
     "name": "stdout",
     "output_type": "stream",
     "text": [
      "Epoch 81: Train Loss 4.763, Valid Loss 15.124\n",
      "([['デック', 'シーク']], array([[-3.19129921, -4.3011933 ]]))\n"
     ]
    },
    {
     "name": "stdout",
     "output_type": "stream",
     "text": [
      "Epoch 82: Train Loss 4.597, Valid Loss 13.368\n",
      "([['デック', 'シーク']], array([[-2.96625765, -4.00626237]]))\n"
     ]
    },
    {
     "name": "stdout",
     "output_type": "stream",
     "text": [
      "Epoch 83: Train Loss 4.421, Valid Loss 13.584\n",
      "([['デック', 'シーク']], array([[-3.01486422, -4.13360364]]))\n"
     ]
    },
    {
     "name": "stdout",
     "output_type": "stream",
     "text": [
      "Epoch 84: Train Loss 4.319, Valid Loss 15.529\n",
      "([['デック', 'ダール']], array([[-3.48407577, -4.14816164]]))\n"
     ]
    },
    {
     "name": "stdout",
     "output_type": "stream",
     "text": [
      "Epoch 85: Train Loss 4.137, Valid Loss 15.065\n",
      "([['デック', 'ダール']], array([[-3.0029078, -3.6989931]]))\n"
     ]
    },
    {
     "name": "stdout",
     "output_type": "stream",
     "text": [
      "Epoch 86: Train Loss 3.926, Valid Loss 13.110\n",
      "([['デック', 'シール']], array([[-3.36067244, -3.91971962]]))\n"
     ]
    },
    {
     "name": "stdout",
     "output_type": "stream",
     "text": [
      "Epoch 87: Train Loss 3.824, Valid Loss 15.008\n",
      "([['デック', 'デルク']], array([[-3.10455038, -3.79842658]]))\n"
     ]
    },
    {
     "name": "stdout",
     "output_type": "stream",
     "text": [
      "Epoch 88: Train Loss 3.655, Valid Loss 15.695\n",
      "([['デック', 'シーク']], array([[-3.2915145 , -4.12747113]]))\n"
     ]
    },
    {
     "name": "stdout",
     "output_type": "stream",
     "text": [
      "Epoch 89: Train Loss 3.469, Valid Loss 14.852\n",
      "([['デック', 'デルク']], array([[-3.04959111, -3.30842804]]))\n"
     ]
    },
    {
     "name": "stdout",
     "output_type": "stream",
     "text": [
      "Epoch 90: Train Loss 3.291, Valid Loss 15.658\n",
      "([['デック', 'シール']], array([[-3.48205354, -3.67319681]]))\n"
     ]
    },
    {
     "name": "stdout",
     "output_type": "stream",
     "text": [
      "Epoch 91: Train Loss 3.124, Valid Loss 15.851\n",
      "([['デック', 'シール']], array([[-2.86882764, -3.59103976]]))\n"
     ]
    },
    {
     "name": "stdout",
     "output_type": "stream",
     "text": [
      "Epoch 92: Train Loss 3.015, Valid Loss 15.113\n",
      "([['デック', 'シール']], array([[-3.41172934, -3.72962239]]))\n"
     ]
    },
    {
     "name": "stdout",
     "output_type": "stream",
     "text": [
      "Epoch 93: Train Loss 2.870, Valid Loss 14.266\n",
      "([['デック', 'シルク']], array([[-3.17465048, -3.62027015]]))\n"
     ]
    },
    {
     "name": "stdout",
     "output_type": "stream",
     "text": [
      "Epoch 94: Train Loss 2.767, Valid Loss 15.368\n",
      "([['デック', 'シール']], array([[-3.05993757, -3.12989264]]))\n"
     ]
    },
    {
     "name": "stdout",
     "output_type": "stream",
     "text": [
      "Epoch 95: Train Loss 2.603, Valid Loss 15.524\n",
      "([['デック', 'シック']], array([[-3.530673  , -3.74382568]]))\n"
     ]
    },
    {
     "name": "stdout",
     "output_type": "stream",
     "text": [
      "Epoch 96: Train Loss 2.481, Valid Loss 15.711\n",
      "([['デック', 'シール']], array([[-3.01422212, -3.3645761 ]]))\n"
     ]
    },
    {
     "name": "stdout",
     "output_type": "stream",
     "text": [
      "Epoch 97: Train Loss 2.376, Valid Loss 14.509\n",
      "([['シール', 'シック']], array([[-3.18444835, -3.29695437]]))\n"
     ]
    },
    {
     "name": "stdout",
     "output_type": "stream",
     "text": [
      "Epoch 98: Train Loss 2.288, Valid Loss 17.458\n",
      "([['シール', 'シルク']], array([[-3.2040583 , -3.24740525]]))\n"
     ]
    },
    {
     "name": "stdout",
     "output_type": "stream",
     "text": [
      "Epoch 99: Train Loss 2.151, Valid Loss 16.061\n",
      "([['デック', 'シック']], array([[-2.91614201, -3.34366792]]))\n"
     ]
    }
   ],
   "source": [
    "for e in range(15, 100):\n",
    "    loss = train.run_one_epoch(our_train_dataset,\n",
    "                               True,\n",
    "                               from_script='en',\n",
    "                               to_script='ja',\n",
    "                               encoder=ja_encoder,\n",
    "                               decoder=ja_decoder,\n",
    "                               optimizer=optimizer,\n",
    "                               loss_function=loss_function)\n",
    "    valid_loss = train.run_one_epoch(our_valid_dataset,\n",
    "                                     False,\n",
    "                                     from_script='en',\n",
    "                                     to_script='ja',\n",
    "                                     encoder=ja_encoder,\n",
    "                                     decoder=ja_decoder,\n",
    "                                     loss_function=loss_function)\n",
    "    if best_val_loss is None or valid_loss < best_val_loss:\n",
    "        best_val_loss = valid_loss\n",
    "        if checkpoint is None:\n",
    "            checkpoint = make_checkpoint_obj()\n",
    "        ja_checkpoint = checkpoint.save(file_prefix=checkpoint_prefix)\n",
    "    print(\"Epoch {}: Train Loss {:.3f}, Valid Loss {:.3f}\".format(e, loss, valid_loss))\n",
    "    print(decode.transliterate(input_strs=['derick'],\n",
    "                               from_script='en',\n",
    "                               to_script='ja',\n",
    "                               encoder=ja_encoder,\n",
    "                               decoder=ja_decoder,\n",
    "                               k_best=2,\n",
    "                               decoding_method=decode.beam_search_decode))"
   ]
  },
  {
   "cell_type": "code",
   "execution_count": 7,
   "metadata": {
    "autoscroll": false,
    "collapsed": false,
    "ein.hycell": false,
    "ein.tags": "worksheet-0",
    "slideshow": {
     "slide_type": "-"
    }
   },
   "outputs": [
    {
     "data": {
      "text/plain": [
       "<tf.Tensor: id=13781081, shape=(), dtype=float32, numpy=11.939638>"
      ]
     },
     "execution_count": 7,
     "metadata": {},
     "output_type": "execute_result"
    }
   ],
   "source": [
    "checkpoint.restore(ja_checkpoint).assert_consumed()\n",
    "train.run_one_epoch(our_valid_dataset,\n",
    "                    False,\n",
    "                    from_script='en',\n",
    "                    to_script='ja',\n",
    "                    encoder=ja_encoder,\n",
    "                    decoder=ja_decoder,\n",
    "                    loss_function=loss_function)"
   ]
  },
  {
   "cell_type": "code",
   "execution_count": 8,
   "metadata": {
    "autoscroll": false,
    "collapsed": false,
    "ein.hycell": false,
    "ein.tags": "worksheet-0",
    "slideshow": {
     "slide_type": "-"
    }
   },
   "outputs": [
    {
     "data": {
      "text/plain": [
       "<tf.Tensor: id=13927716, shape=(), dtype=float32, numpy=41.722157>"
      ]
     },
     "execution_count": 8,
     "metadata": {},
     "output_type": "execute_result"
    }
   ],
   "source": [
    "train.run_one_epoch(eob_valid_dataset,\n",
    "                    False,\n",
    "                    from_script='en',\n",
    "                    to_script='ja',\n",
    "                    encoder=ja_encoder,\n",
    "                    decoder=ja_decoder,\n",
    "                    loss_function=loss_function)"
   ]
  },
  {
   "cell_type": "code",
   "execution_count": 9,
   "metadata": {
    "autoscroll": false,
    "collapsed": false,
    "ein.hycell": false,
    "ein.tags": "worksheet-0",
    "slideshow": {
     "slide_type": "-"
    }
   },
   "outputs": [
    {
     "data": {
      "text/plain": [
       "<tf.Tensor: id=13995484, shape=(), dtype=float32, numpy=21.196993>"
      ]
     },
     "execution_count": 9,
     "metadata": {},
     "output_type": "execute_result"
    }
   ],
   "source": [
    "train.run_one_epoch(muse_valid_dataset,\n",
    "                    False,\n",
    "                    from_script='en',\n",
    "                    to_script='ja',\n",
    "                    encoder=ja_encoder,\n",
    "                    decoder=ja_decoder,\n",
    "                    loss_function=loss_function)"
   ]
  },
  {
   "cell_type": "code",
   "execution_count": 10,
   "metadata": {
    "autoscroll": false,
    "collapsed": false,
    "ein.hycell": false,
    "ein.tags": "worksheet-0",
    "slideshow": {
     "slide_type": "-"
    }
   },
   "outputs": [],
   "source": [
    "valid_df = pd.read_csv('../data/split/muse_pairs_valid.csv',\n",
    "                       keep_default_na=False)"
   ]
  },
  {
   "cell_type": "code",
   "execution_count": 11,
   "metadata": {
    "autoscroll": false,
    "collapsed": false,
    "ein.hycell": false,
    "ein.tags": "worksheet-0",
    "slideshow": {
     "slide_type": "-"
    }
   },
   "outputs": [],
   "source": [
    "tr = decode.transliterate(input_strs=valid_df['en'].values,\n",
    "                          from_script='en',\n",
    "                          to_script='ja',\n",
    "                          encoder=ja_encoder,\n",
    "                          decoder=ja_decoder,\n",
    "                          k_best=20,\n",
    "                          num_beams=40,\n",
    "                          decoding_method=decode.beam_search_decode)"
   ]
  },
  {
   "cell_type": "code",
   "execution_count": 12,
   "metadata": {
    "autoscroll": false,
    "collapsed": false,
    "ein.hycell": false,
    "ein.tags": "worksheet-0",
    "slideshow": {
     "slide_type": "-"
    }
   },
   "outputs": [
    {
     "data": {
      "text/plain": [
       "0.004070556309362279"
      ]
     },
     "execution_count": 12,
     "metadata": {},
     "output_type": "execute_result"
    }
   ],
   "source": [
    "evaluate.top_k_accuracy(valid_df['ja'].values, tr, k=1)"
   ]
  },
  {
   "cell_type": "code",
   "execution_count": 13,
   "metadata": {
    "autoscroll": false,
    "collapsed": false,
    "ein.hycell": false,
    "ein.tags": "worksheet-0",
    "slideshow": {
     "slide_type": "-"
    }
   },
   "outputs": [
    {
     "data": {
      "text/plain": [
       "0.012211668928086838"
      ]
     },
     "execution_count": 13,
     "metadata": {},
     "output_type": "execute_result"
    }
   ],
   "source": [
    "evaluate.top_k_accuracy(valid_df['ja'].values, tr, k=10)"
   ]
  }
 ],
 "metadata": {
  "kernelspec": {
   "display_name": "Python [conda env:tf-1.13]",
   "name": "conda-env-tf-1.13-py"
  },
  "name": "our_pairs.ipynb"
 },
 "nbformat": 4,
 "nbformat_minor": 2
}
